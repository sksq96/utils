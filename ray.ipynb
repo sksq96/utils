{
 "cells": [
  {
   "cell_type": "code",
   "execution_count": 1,
   "metadata": {},
   "outputs": [
    {
     "name": "stderr",
     "output_type": "stream",
     "text": [
      "2020-09-30 01:21:45,546\tINFO resource_spec.py:231 -- Starting Ray with 4.39 GiB memory available for workers and up to 2.21 GiB for objects. You can adjust these settings with ray.init(memory=<bytes>, object_store_memory=<bytes>).\n",
      "2020-09-30 01:21:46,282\tINFO services.py:1193 -- View the Ray dashboard at \u001b[1m\u001b[32mlocalhost:8265\u001b[39m\u001b[22m\n"
     ]
    },
    {
     "data": {
      "text/plain": [
       "{'node_ip_address': '192.168.0.100',\n",
       " 'raylet_ip_address': '192.168.0.100',\n",
       " 'redis_address': '192.168.0.100:6379',\n",
       " 'object_store_address': '/tmp/ray/session_2020-09-30_01-21-45_539765_39459/sockets/plasma_store',\n",
       " 'raylet_socket_name': '/tmp/ray/session_2020-09-30_01-21-45_539765_39459/sockets/raylet',\n",
       " 'webui_url': 'localhost:8265',\n",
       " 'session_dir': '/tmp/ray/session_2020-09-30_01-21-45_539765_39459'}"
      ]
     },
     "execution_count": 1,
     "metadata": {},
     "output_type": "execute_result"
    }
   ],
   "source": [
    "import ray\n",
    "ray.init()"
   ]
  },
  {
   "cell_type": "code",
   "execution_count": null,
   "metadata": {},
   "outputs": [],
   "source": [
    "@ray.remote\n",
    "def process(line):\n",
    "    source_tokens = tokenizer.tokenize(src)\n",
    "    target_tokens = tokenizer.tokenize(tgt)\n",
    "    source_ids = tokenizer.convert_tokens_to_ids(source_tokens)\n",
    "    target_ids = tokenizer.convert_tokens_to_ids(target_tokens)\n",
    "    return {\"source_ids\": source_ids,\n",
    "            \"target_ids\": target_ids}"
   ]
  },
  {
   "cell_type": "code",
   "execution_count": null,
   "metadata": {},
   "outputs": [],
   "source": [
    "%%time\n",
    "with open(\"data/23.10K.jsonl\") as f:\n",
    "    tables = ray.get([process.remote(line) for line in f])"
   ]
  }
 ],
 "metadata": {
  "kernelspec": {
   "display_name": "Python 3",
   "language": "python",
   "name": "python3"
  },
  "language_info": {
   "codemirror_mode": {
    "name": "ipython",
    "version": 3
   },
   "file_extension": ".py",
   "mimetype": "text/x-python",
   "name": "python",
   "nbconvert_exporter": "python",
   "pygments_lexer": "ipython3",
   "version": "3.6.5"
  }
 },
 "nbformat": 4,
 "nbformat_minor": 2
}
